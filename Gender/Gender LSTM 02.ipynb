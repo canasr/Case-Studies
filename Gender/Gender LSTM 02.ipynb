{
 "cells": [
  {
   "cell_type": "code",
   "execution_count": 151,
   "metadata": {},
   "outputs": [],
   "source": [
    "%config Completer.use_jedi = False"
   ]
  },
  {
   "cell_type": "code",
   "execution_count": 155,
   "metadata": {},
   "outputs": [],
   "source": [
    "from IPython.display import display, clear_output\n",
    "import numpy as np\n",
    "import pandas as pd\n",
    "import os\n",
    "import random\n",
    "import unicodedata"
   ]
  },
  {
   "cell_type": "code",
   "execution_count": 156,
   "metadata": {},
   "outputs": [],
   "source": [
    "import tensorflow as tf\n",
    "from tensorflow.keras.layers import Dense, Activation, Dropout\n",
    "from tensorflow.keras.preprocessing import sequence\n",
    "from tensorflow.keras.models import Sequential\n",
    "from tensorflow.keras.layers import Dense, Embedding\n",
    "from tensorflow.keras.layers import LSTM\n",
    "from tensorflow.keras.callbacks import  EarlyStopping"
   ]
  },
  {
   "cell_type": "code",
   "execution_count": null,
   "metadata": {},
   "outputs": [],
   "source": []
  },
  {
   "cell_type": "code",
   "execution_count": 161,
   "metadata": {},
   "outputs": [],
   "source": [
    "path  = './data/namesbystate/'\n",
    "list_files = os.listdir(path)"
   ]
  },
  {
   "cell_type": "code",
   "execution_count": 162,
   "metadata": {},
   "outputs": [],
   "source": [
    "state_df = []\n",
    "for file in list_files:\n",
    "    if '.TXT' not in file:\n",
    "        continue\n",
    "    df = pd.read_csv(path + file, index_col=False, header=None, names=['state', 'gender', 'year', 'name', 'freq'])\n",
    "    state_df.append( df )"
   ]
  },
  {
   "cell_type": "code",
   "execution_count": 163,
   "metadata": {},
   "outputs": [
    {
     "data": {
      "text/html": [
       "<div>\n",
       "<style scoped>\n",
       "    .dataframe tbody tr th:only-of-type {\n",
       "        vertical-align: middle;\n",
       "    }\n",
       "\n",
       "    .dataframe tbody tr th {\n",
       "        vertical-align: top;\n",
       "    }\n",
       "\n",
       "    .dataframe thead th {\n",
       "        text-align: right;\n",
       "    }\n",
       "</style>\n",
       "<table border=\"1\" class=\"dataframe\">\n",
       "  <thead>\n",
       "    <tr style=\"text-align: right;\">\n",
       "      <th></th>\n",
       "      <th>state</th>\n",
       "      <th>gender</th>\n",
       "      <th>year</th>\n",
       "      <th>name</th>\n",
       "      <th>freq</th>\n",
       "    </tr>\n",
       "  </thead>\n",
       "  <tbody>\n",
       "    <tr>\n",
       "      <th>0</th>\n",
       "      <td>IN</td>\n",
       "      <td>F</td>\n",
       "      <td>1910</td>\n",
       "      <td>Mary</td>\n",
       "      <td>619</td>\n",
       "    </tr>\n",
       "    <tr>\n",
       "      <th>1</th>\n",
       "      <td>IN</td>\n",
       "      <td>F</td>\n",
       "      <td>1910</td>\n",
       "      <td>Helen</td>\n",
       "      <td>324</td>\n",
       "    </tr>\n",
       "    <tr>\n",
       "      <th>2</th>\n",
       "      <td>IN</td>\n",
       "      <td>F</td>\n",
       "      <td>1910</td>\n",
       "      <td>Ruth</td>\n",
       "      <td>238</td>\n",
       "    </tr>\n",
       "    <tr>\n",
       "      <th>3</th>\n",
       "      <td>IN</td>\n",
       "      <td>F</td>\n",
       "      <td>1910</td>\n",
       "      <td>Dorothy</td>\n",
       "      <td>215</td>\n",
       "    </tr>\n",
       "    <tr>\n",
       "      <th>4</th>\n",
       "      <td>IN</td>\n",
       "      <td>F</td>\n",
       "      <td>1910</td>\n",
       "      <td>Mildred</td>\n",
       "      <td>200</td>\n",
       "    </tr>\n",
       "    <tr>\n",
       "      <th>...</th>\n",
       "      <td>...</td>\n",
       "      <td>...</td>\n",
       "      <td>...</td>\n",
       "      <td>...</td>\n",
       "      <td>...</td>\n",
       "    </tr>\n",
       "    <tr>\n",
       "      <th>6122885</th>\n",
       "      <td>DE</td>\n",
       "      <td>M</td>\n",
       "      <td>2019</td>\n",
       "      <td>River</td>\n",
       "      <td>5</td>\n",
       "    </tr>\n",
       "    <tr>\n",
       "      <th>6122886</th>\n",
       "      <td>DE</td>\n",
       "      <td>M</td>\n",
       "      <td>2019</td>\n",
       "      <td>Rocco</td>\n",
       "      <td>5</td>\n",
       "    </tr>\n",
       "    <tr>\n",
       "      <th>6122887</th>\n",
       "      <td>DE</td>\n",
       "      <td>M</td>\n",
       "      <td>2019</td>\n",
       "      <td>Shane</td>\n",
       "      <td>5</td>\n",
       "    </tr>\n",
       "    <tr>\n",
       "      <th>6122888</th>\n",
       "      <td>DE</td>\n",
       "      <td>M</td>\n",
       "      <td>2019</td>\n",
       "      <td>Syncere</td>\n",
       "      <td>5</td>\n",
       "    </tr>\n",
       "    <tr>\n",
       "      <th>6122889</th>\n",
       "      <td>DE</td>\n",
       "      <td>M</td>\n",
       "      <td>2019</td>\n",
       "      <td>Yasir</td>\n",
       "      <td>5</td>\n",
       "    </tr>\n",
       "  </tbody>\n",
       "</table>\n",
       "<p>6122890 rows × 5 columns</p>\n",
       "</div>"
      ],
      "text/plain": [
       "        state gender  year     name  freq\n",
       "0          IN      F  1910     Mary   619\n",
       "1          IN      F  1910    Helen   324\n",
       "2          IN      F  1910     Ruth   238\n",
       "3          IN      F  1910  Dorothy   215\n",
       "4          IN      F  1910  Mildred   200\n",
       "...       ...    ...   ...      ...   ...\n",
       "6122885    DE      M  2019    River     5\n",
       "6122886    DE      M  2019    Rocco     5\n",
       "6122887    DE      M  2019    Shane     5\n",
       "6122888    DE      M  2019  Syncere     5\n",
       "6122889    DE      M  2019    Yasir     5\n",
       "\n",
       "[6122890 rows x 5 columns]"
      ]
     },
     "execution_count": 163,
     "metadata": {},
     "output_type": "execute_result"
    }
   ],
   "source": [
    "df_us = pd.concat( state_df )\n",
    "df_us.reset_index(drop=True)"
   ]
  },
  {
   "cell_type": "code",
   "execution_count": 167,
   "metadata": {},
   "outputs": [],
   "source": [
    "df_us.to_csv('./data/us_gender.csv',index=None)"
   ]
  },
  {
   "cell_type": "code",
   "execution_count": 180,
   "metadata": {},
   "outputs": [],
   "source": [
    "df_male = df_us[ df_us.gender == 'M' ].copy()\n",
    "df_female = df_us[ df_us.gender == 'F' ].copy()"
   ]
  },
  {
   "cell_type": "code",
   "execution_count": 190,
   "metadata": {},
   "outputs": [],
   "source": [
    "ls_male = list( df_male.name.unique())\n",
    "ls_female = list( df_female.name.unique())"
   ]
  },
  {
   "cell_type": "code",
   "execution_count": 184,
   "metadata": {},
   "outputs": [
    {
     "name": "stdout",
     "output_type": "stream",
     "text": [
      "Ratio male-female  0.662322838390564\n"
     ]
    }
   ],
   "source": [
    "print('Ratio male-female ', len(ls_male)/len(ls_female))"
   ]
  },
  {
   "cell_type": "code",
   "execution_count": 199,
   "metadata": {},
   "outputs": [],
   "source": [
    "ls_gender = [0]*len(ls_male) + [1]*len(ls_female)\n",
    "ls_name   = ls_male + ls_female\n",
    "df = pd.DataFrame( {'gender':ls_gender, 'name':ls_name})\n",
    "df = df.sample(frac=1).reset_index(drop=True)\n",
    "df.name =  df.name.map( lambda x: x.lower())"
   ]
  },
  {
   "cell_type": "code",
   "execution_count": 200,
   "metadata": {},
   "outputs": [],
   "source": [
    "def get_alphabet(df):\n",
    "    # list of unique letters\n",
    "    alphabet = []\n",
    "    for name in df.name:\n",
    "        alphabet.extend( list(name))\n",
    "        \n",
    "    return set(alphabet)    "
   ]
  },
  {
   "cell_type": "code",
   "execution_count": 201,
   "metadata": {},
   "outputs": [],
   "source": [
    "alphabet = set(get_alphabet(df))"
   ]
  },
  {
   "cell_type": "code",
   "execution_count": 203,
   "metadata": {},
   "outputs": [
    {
     "name": "stdout",
     "output_type": "stream",
     "text": [
      "The input vector will have the shape 15x26.\n"
     ]
    }
   ],
   "source": [
    "word_vec_length = df.name.apply(len).max()\n",
    "char_vec_length = len(alphabet)\n",
    "output_labels   = 2\n",
    "\n",
    "print(f\"The input vector will have the shape {word_vec_length}x{char_vec_length}.\")"
   ]
  },
  {
   "cell_type": "code",
   "execution_count": 204,
   "metadata": {},
   "outputs": [],
   "source": [
    "# Define a mapping of chars to integers\n",
    "char_to_int = dict((c, i) for i, c in enumerate(alphabet))\n",
    "int_to_char = dict((i, c) for i, c in enumerate(alphabet))\n",
    "\n",
    "\n",
    "# Returns a list of n lists with n = word_vec_length\n",
    "def name_encoding(name):\n",
    "    # Encode input data to int, e.g. a->1, z->26\n",
    "    integer_encoded = [ char_to_int[char] for char in name]\n",
    "    \n",
    "    # Start one-hot-encoding\n",
    "    onehot_encoded = list()\n",
    "    \n",
    "    for value in integer_encoded:\n",
    "        # create a list of n zeros, where n is equal to the number of accepted characters\n",
    "        letter = [0 for _ in range(char_vec_length)]\n",
    "        letter[value] = 1\n",
    "        onehot_encoded.append(letter)\n",
    "        \n",
    "    # Fill up list to the max length. Lists need do have equal length to be able to convert it into an array\n",
    "    for _ in range(word_vec_length - len(name)):\n",
    "        onehot_encoded.append([0 for _ in range(char_vec_length)])\n",
    "        \n",
    "    return onehot_encoded\n",
    "\n",
    "\n",
    "# Encode the output labels\n",
    "def label_binary_encoding(gender_series):\n",
    "    labels = np.empty((0, 2))\n",
    "    for n in gender_series:\n",
    "        x = [1,0] if n == 0 else [0,1]\n",
    "        labels = np.append(labels, [x], axis=0)\n",
    "    return labels\n",
    "\n",
    "# Encode the output labels\n",
    "def label_encoding(gender_series):\n",
    "    labels = np.empty((0, 3))\n",
    "    for n in gender_series:\n",
    "        x = [0,0,0]\n",
    "        x[n] = 1        \n",
    "        labels = np.append(labels, [x], axis=0)\n",
    "    return labels"
   ]
  },
  {
   "cell_type": "code",
   "execution_count": 205,
   "metadata": {},
   "outputs": [],
   "source": [
    "train, test = np.split(df.sample(frac=1), [int(.8*len(df))])\n",
    "\n",
    "# Convert both the input names as well as the output lables into the discussed machine readable vector format\n",
    "train_x =  np.asarray([np.asarray(name_encoding(name)) for name in train.name])\n",
    "train_y = label_binary_encoding(train.gender)\n",
    "\n",
    "test_x = np.asarray([name_encoding(name) for name in test.name])\n",
    "test_y = label_binary_encoding(test.gender)"
   ]
  },
  {
   "cell_type": "code",
   "execution_count": 206,
   "metadata": {},
   "outputs": [],
   "source": [
    "hidden_nodes = int(2/3 * (word_vec_length * char_vec_length))\n",
    "#print(f\"The number of hidden nodes is {hidden_nodes}.\")"
   ]
  },
  {
   "cell_type": "code",
   "execution_count": 211,
   "metadata": {},
   "outputs": [
    {
     "name": "stdout",
     "output_type": "stream",
     "text": [
      "Model: \"sequential_9\"\n",
      "_________________________________________________________________\n",
      "Layer (type)                 Output Shape              Param #   \n",
      "=================================================================\n",
      "lstm_9 (LSTM)                (None, 260)               298480    \n",
      "_________________________________________________________________\n",
      "dropout_13 (Dropout)         (None, 260)               0         \n",
      "_________________________________________________________________\n",
      "dense_13 (Dense)             (None, 130)               33930     \n",
      "_________________________________________________________________\n",
      "dropout_14 (Dropout)         (None, 130)               0         \n",
      "_________________________________________________________________\n",
      "dense_14 (Dense)             (None, 2)                 262       \n",
      "_________________________________________________________________\n",
      "activation_9 (Activation)    (None, 2)                 0         \n",
      "=================================================================\n",
      "Total params: 332,672\n",
      "Trainable params: 332,672\n",
      "Non-trainable params: 0\n",
      "_________________________________________________________________\n"
     ]
    }
   ],
   "source": [
    "model = Sequential()\n",
    "model.add(LSTM( hidden_nodes, return_sequences=False, input_shape=(word_vec_length, char_vec_length)))\n",
    "model.add(Dropout(0.2))\n",
    "\n",
    "model.add(Dense( units= hidden_nodes//2 ))\n",
    "model.add(Dropout(0.2))\n",
    "\n",
    "model.add(Dense(units=output_labels))\n",
    "\n",
    "model.add(Activation('softmax'))\n",
    "model.compile(loss='categorical_crossentropy', optimizer='adam', metrics=['acc'])\n",
    "model.summary()"
   ]
  },
  {
   "cell_type": "code",
   "execution_count": 212,
   "metadata": {},
   "outputs": [],
   "source": [
    "callbacks = [ EarlyStopping(  monitor='val_loss', mode='min'  ) ]"
   ]
  },
  {
   "cell_type": "code",
   "execution_count": 213,
   "metadata": {},
   "outputs": [
    {
     "name": "stdout",
     "output_type": "stream",
     "text": [
      "Epoch 1/20\n",
      "110/110 [==============================] - 16s 127ms/step - loss: 0.6062 - acc: 0.6688 - val_loss: 0.5633 - val_acc: 0.7111\n",
      "Epoch 2/20\n",
      "110/110 [==============================] - 14s 123ms/step - loss: 0.5428 - acc: 0.7289 - val_loss: 0.5283 - val_acc: 0.7445\n",
      "Epoch 3/20\n",
      "110/110 [==============================] - 14s 125ms/step - loss: 0.5239 - acc: 0.7476 - val_loss: 0.5145 - val_acc: 0.7462\n",
      "Epoch 4/20\n",
      "110/110 [==============================] - 14s 124ms/step - loss: 0.5095 - acc: 0.7551 - val_loss: 0.5100 - val_acc: 0.7501\n",
      "Epoch 5/20\n",
      "110/110 [==============================] - 13s 122ms/step - loss: 0.4925 - acc: 0.7666 - val_loss: 0.4931 - val_acc: 0.7710\n",
      "Epoch 6/20\n",
      "110/110 [==============================] - 14s 126ms/step - loss: 0.4740 - acc: 0.7753 - val_loss: 0.4774 - val_acc: 0.7767\n",
      "Epoch 7/20\n",
      "110/110 [==============================] - 15s 135ms/step - loss: 0.4694 - acc: 0.7785 - val_loss: 0.4705 - val_acc: 0.7771\n",
      "Epoch 8/20\n",
      "110/110 [==============================] - 13s 120ms/step - loss: 0.4608 - acc: 0.7867 - val_loss: 0.4643 - val_acc: 0.7831\n",
      "Epoch 9/20\n",
      "110/110 [==============================] - 14s 124ms/step - loss: 0.4538 - acc: 0.7913 - val_loss: 0.4922 - val_acc: 0.7678\n",
      "Epoch 10/20\n",
      "110/110 [==============================] - 14s 131ms/step - loss: 0.4507 - acc: 0.7912 - val_loss: 0.4584 - val_acc: 0.7869\n",
      "Epoch 11/20\n",
      "110/110 [==============================] - 14s 124ms/step - loss: 0.4378 - acc: 0.7966 - val_loss: 0.4531 - val_acc: 0.7910\n",
      "Epoch 12/20\n",
      "110/110 [==============================] - 14s 122ms/step - loss: 0.4335 - acc: 0.8032 - val_loss: 0.4404 - val_acc: 0.7965\n",
      "Epoch 13/20\n",
      "110/110 [==============================] - 17s 156ms/step - loss: 0.4297 - acc: 0.8040 - val_loss: 0.4372 - val_acc: 0.8007\n",
      "Epoch 14/20\n",
      "110/110 [==============================] - 14s 130ms/step - loss: 0.4294 - acc: 0.8056 - val_loss: 0.4343 - val_acc: 0.8002\n",
      "Epoch 15/20\n",
      "110/110 [==============================] - 15s 141ms/step - loss: 0.4227 - acc: 0.8083 - val_loss: 0.4389 - val_acc: 0.8010\n",
      "Epoch 16/20\n",
      "110/110 [==============================] - 15s 141ms/step - loss: 0.4098 - acc: 0.8156 - val_loss: 0.4351 - val_acc: 0.8049\n",
      "Epoch 17/20\n",
      "110/110 [==============================] - 16s 142ms/step - loss: 0.4141 - acc: 0.8131 - val_loss: 0.4301 - val_acc: 0.8069\n",
      "Epoch 18/20\n",
      "110/110 [==============================] - 17s 150ms/step - loss: 0.4028 - acc: 0.8195 - val_loss: 0.4282 - val_acc: 0.8062\n",
      "Epoch 19/20\n",
      "110/110 [==============================] - 16s 145ms/step - loss: 0.3998 - acc: 0.8183 - val_loss: 0.4278 - val_acc: 0.8053\n",
      "Epoch 20/20\n",
      "110/110 [==============================] - 15s 137ms/step - loss: 0.4074 - acc: 0.8193 - val_loss: 0.4362 - val_acc: 0.8039\n"
     ]
    }
   ],
   "source": [
    "history = model.fit(train_x, train_y, batch_size=256, epochs=20, validation_data=(test_x, test_y)) #callbacks=callbacks"
   ]
  },
  {
   "cell_type": "code",
   "execution_count": 214,
   "metadata": {},
   "outputs": [
    {
     "data": {
      "text/plain": [
       "<AxesSubplot:>"
      ]
     },
     "execution_count": 214,
     "metadata": {},
     "output_type": "execute_result"
    },
    {
     "data": {
      "image/png": "[encoded data removed]",
      "text/plain": [
       "<Figure size 432x288 with 1 Axes>"
      ]
     },
     "metadata": {
      "needs_background": "light"
     },
     "output_type": "display_data"
    }
   ],
   "source": [
    "sdf = pd.DataFrame(history.history)\n",
    "sdf.plot()"
   ]
  },
  {
   "cell_type": "code",
   "execution_count": 215,
   "metadata": {},
   "outputs": [],
   "source": [
    "from sklearn.metrics import confusion_matrix"
   ]
  },
  {
   "cell_type": "code",
   "execution_count": 216,
   "metadata": {},
   "outputs": [],
   "source": [
    "y_pred =  [0 if p[0] > p[1] else 1 for p in model.predict(test_x)]"
   ]
  },
  {
   "cell_type": "code",
   "execution_count": 217,
   "metadata": {},
   "outputs": [
    {
     "data": {
      "text/plain": [
       "array([[2146,  666],\n",
       "       [ 705, 3474]])"
      ]
     },
     "execution_count": 217,
     "metadata": {},
     "output_type": "execute_result"
    }
   ],
   "source": [
    "confusion_matrix( test.gender.values, y_pred)"
   ]
  },
  {
   "cell_type": "code",
   "execution_count": null,
   "metadata": {},
   "outputs": [],
   "source": []
  }
 ],
 "metadata": {
  "kernelspec": {
   "display_name": "Python 3",
   "language": "python",
   "name": "python3"
  },
  "language_info": {
   "codemirror_mode": {
    "name": "ipython",
    "version": 3
   },
   "file_extension": ".py",
   "mimetype": "text/x-python",
   "name": "python",
   "nbconvert_exporter": "python",
   "pygments_lexer": "ipython3",
   "version": "3.8.6"
  }
 },
 "nbformat": 4,
 "nbformat_minor": 4
}
