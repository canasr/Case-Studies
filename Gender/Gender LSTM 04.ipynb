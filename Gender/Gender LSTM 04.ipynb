{
 "cells": [
  {
   "cell_type": "code",
   "execution_count": 1,
   "metadata": {},
   "outputs": [],
   "source": [
    "%config Completer.use_jedi = False"
   ]
  },
  {
   "cell_type": "code",
   "execution_count": 11,
   "metadata": {},
   "outputs": [],
   "source": [
    "from IPython.display import display, clear_output\n",
    "import numpy as np\n",
    "import pandas as pd\n",
    "import os\n",
    "import random\n",
    "import unicodedata\n",
    "from collections import Counter"
   ]
  },
  {
   "cell_type": "code",
   "execution_count": 3,
   "metadata": {},
   "outputs": [],
   "source": [
    "import tensorflow as tf\n",
    "from tensorflow.keras.layers import Dense, Activation, Dropout\n",
    "from tensorflow.keras.preprocessing import sequence\n",
    "from tensorflow.keras.models import Sequential\n",
    "from tensorflow.keras.layers import Dense, Embedding\n",
    "from tensorflow.keras.layers import LSTM\n",
    "from tensorflow.keras.callbacks import  EarlyStopping"
   ]
  },
  {
   "cell_type": "code",
   "execution_count": 4,
   "metadata": {},
   "outputs": [],
   "source": [
    "from nltk.tokenize import SyllableTokenizer\n",
    "from nltk import word_tokenize\n",
    "from nltk.util import ngrams"
   ]
  },
  {
   "cell_type": "code",
   "execution_count": 5,
   "metadata": {},
   "outputs": [],
   "source": [
    "df_us = pd.read_csv('./data/us_gender.csv')"
   ]
  },
  {
   "cell_type": "code",
   "execution_count": 6,
   "metadata": {},
   "outputs": [],
   "source": [
    "df_male = df_us[ df_us.gender == 'M' ].copy()\n",
    "df_female = df_us[ df_us.gender == 'F' ].copy()"
   ]
  },
  {
   "cell_type": "code",
   "execution_count": 7,
   "metadata": {},
   "outputs": [],
   "source": [
    "ls_male = list( df_male.name.unique())\n",
    "ls_female = list( df_female.name.unique())"
   ]
  },
  {
   "cell_type": "code",
   "execution_count": 8,
   "metadata": {},
   "outputs": [
    {
     "name": "stdout",
     "output_type": "stream",
     "text": [
      "Ratio male-female  0.662322838390564\n"
     ]
    }
   ],
   "source": [
    "print('Ratio male-female ', len(ls_male)/len(ls_female))"
   ]
  },
  {
   "cell_type": "code",
   "execution_count": 9,
   "metadata": {},
   "outputs": [],
   "source": [
    "ls_gender = [0]*len(ls_male) + [1]*len(ls_female)\n",
    "ls_name   = ls_male + ls_female\n",
    "df = pd.DataFrame( {'gender':ls_gender, 'name':ls_name})\n",
    "df = df.sample(frac=1).reset_index(drop=True)\n",
    "df.name =  df.name.map( lambda x: x.lower())"
   ]
  },
  {
   "cell_type": "code",
   "execution_count": 10,
   "metadata": {},
   "outputs": [],
   "source": [
    "SSP = SyllableTokenizer()  \n",
    "df['syllable'] = df.name.map( lambda x: SSP.tokenize( x) )"
   ]
  },
  {
   "cell_type": "code",
   "execution_count": 13,
   "metadata": {},
   "outputs": [],
   "source": [
    "syllable = []\n",
    "for x in df.syllable:\n",
    "    syllable.extend(x)"
   ]
  },
  {
   "cell_type": "code",
   "execution_count": 18,
   "metadata": {},
   "outputs": [],
   "source": [
    "s_list = Counter(syllable)"
   ]
  },
  {
   "cell_type": "code",
   "execution_count": null,
   "metadata": {},
   "outputs": [],
   "source": [
    "syllable_list.keys()\n",
    "syllable_list.values() "
   ]
  },
  {
   "cell_type": "code",
   "execution_count": 19,
   "metadata": {},
   "outputs": [],
   "source": [
    "s_dict = dict( (c, c) for c in set(syllable) )\n",
    "\n",
    "for key, value in s_dict.items():\n",
    "    if s_list[ key ] <= 2:\n",
    "        s_dict[ key ] = '*'   "
   ]
  },
  {
   "cell_type": "code",
   "execution_count": 17,
   "metadata": {},
   "outputs": [
    {
     "data": {
      "text/plain": [
       "2176"
      ]
     },
     "execution_count": 17,
     "metadata": {},
     "output_type": "execute_result"
    }
   ],
   "source": [
    "len(set(syllable_cpy))"
   ]
  },
  {
   "cell_type": "code",
   "execution_count": 24,
   "metadata": {},
   "outputs": [],
   "source": [
    "syllabe_to_int = dict((c, i) for i, c in enumerate(syllable))\n",
    "int_to_syllabe = dict((i, c) for i, c in enumerate(syllable))"
   ]
  },
  {
   "cell_type": "code",
   "execution_count": 25,
   "metadata": {},
   "outputs": [
    {
     "name": "stdout",
     "output_type": "stream",
     "text": [
      "The input vector will have the shape 15x5475.\n"
     ]
    }
   ],
   "source": [
    "word_vec_length = df.name.apply(len).max()\n",
    "char_vec_length = len(syllable)\n",
    "output_labels   = 2\n",
    "\n",
    "print(f\"The input vector will have the shape {word_vec_length}x{char_vec_length}.\")"
   ]
  },
  {
   "cell_type": "code",
   "execution_count": 28,
   "metadata": {},
   "outputs": [],
   "source": [
    "def name_encoding(name_syllable):\n",
    "\n",
    "    integer_encoded = [ syllabe_to_int[ s ] for s in name_syllable ]\n",
    "    \n",
    "    # Start one-hot-encoding\n",
    "    onehot_encoded = list()\n",
    "    \n",
    "    for value in integer_encoded:\n",
    "        # create a list of n zeros, where n is equal to the number of accepted characters\n",
    "        letter = [0 for _ in range(char_vec_length)]\n",
    "        letter[value] = 1\n",
    "        onehot_encoded.append(letter)\n",
    "        \n",
    "    # Fill up list to the max length. Lists need do have equal length to be able to convert it into an array\n",
    "    for _ in range(word_vec_length - len(name_syllable)):\n",
    "        onehot_encoded.append([0 for _ in range(char_vec_length)])\n",
    "        \n",
    "    return onehot_encoded\n",
    "\n",
    "# Encode the output labels\n",
    "def label_binary_encoding(gender_series):\n",
    "    labels = np.empty((0, 2))\n",
    "    for n in gender_series:\n",
    "        x = [1,0] if n == 0 else [0,1]\n",
    "        labels = np.append(labels, [x], axis=0)\n",
    "    return labels\n",
    "\n",
    "# Encode the output labels\n",
    "def label_encoding(gender_series):\n",
    "    labels = np.empty((0, 3))\n",
    "    for n in gender_series:\n",
    "        x = [0,0,0]\n",
    "        x[n] = 1        \n",
    "        labels = np.append(labels, [x], axis=0)\n",
    "    return labels"
   ]
  },
  {
   "cell_type": "code",
   "execution_count": 29,
   "metadata": {},
   "outputs": [],
   "source": [
    "train, test = np.split(df.sample(frac=1), [int(.8*len(df))])\n",
    "\n",
    "# Convert both the input names as well as the output lables into the discussed machine readable vector format\n",
    "train_x =  np.asarray([np.asarray(name_encoding(name_syllable)) for name_syllable in train.syllable])\n",
    "train_y = label_binary_encoding(train.gender)\n",
    "\n",
    "test_x = np.asarray([name_encoding(name_syllable) for name_syllable in test.syllable])\n",
    "test_y = label_binary_encoding(test.gender)"
   ]
  },
  {
   "cell_type": "code",
   "execution_count": 30,
   "metadata": {},
   "outputs": [],
   "source": [
    "hidden_nodes = 1024   # int(2/3 * (word_vec_length * char_vec_length))\n",
    "#print(f\"The number of hidden nodes is {hidden_nodes}.\")"
   ]
  },
  {
   "cell_type": "code",
   "execution_count": 31,
   "metadata": {},
   "outputs": [
    {
     "name": "stdout",
     "output_type": "stream",
     "text": [
      "Model: \"sequential\"\n",
      "_________________________________________________________________\n",
      "Layer (type)                 Output Shape              Param #   \n",
      "=================================================================\n",
      "lstm (LSTM)                  (None, 1024)              26624000  \n",
      "_________________________________________________________________\n",
      "dropout (Dropout)            (None, 1024)              0         \n",
      "_________________________________________________________________\n",
      "dense (Dense)                (None, 512)               524800    \n",
      "_________________________________________________________________\n",
      "dropout_1 (Dropout)          (None, 512)               0         \n",
      "_________________________________________________________________\n",
      "dense_1 (Dense)              (None, 2)                 1026      \n",
      "_________________________________________________________________\n",
      "activation (Activation)      (None, 2)                 0         \n",
      "=================================================================\n",
      "Total params: 27,149,826\n",
      "Trainable params: 27,149,826\n",
      "Non-trainable params: 0\n",
      "_________________________________________________________________\n"
     ]
    }
   ],
   "source": [
    "model = Sequential()\n",
    "model.add(LSTM( hidden_nodes, return_sequences=False, input_shape=(word_vec_length, char_vec_length)))\n",
    "model.add(Dropout(0.2))\n",
    "\n",
    "model.add(Dense( units= hidden_nodes//2 ))\n",
    "model.add(Dropout(0.2))\n",
    "\n",
    "model.add(Dense(units=output_labels))\n",
    "\n",
    "model.add(Activation('softmax'))\n",
    "model.compile(loss='categorical_crossentropy', optimizer='adam', metrics=['acc'])\n",
    "model.summary()"
   ]
  },
  {
   "cell_type": "code",
   "execution_count": 212,
   "metadata": {},
   "outputs": [],
   "source": [
    "callbacks = [ EarlyStopping(  monitor='val_loss', mode='min'  ) ]"
   ]
  },
  {
   "cell_type": "code",
   "execution_count": null,
   "metadata": {},
   "outputs": [
    {
     "name": "stdout",
     "output_type": "stream",
     "text": [
      "Epoch 1/10\n",
      "  8/110 [=>............................] - ETA: 6:30 - loss: 0.6829 - acc: 0.5689"
     ]
    }
   ],
   "source": [
    "history = model.fit(train_x, train_y, batch_size=256, epochs=10, validation_data=(test_x, test_y)) #callbacks=callbacks"
   ]
  },
  {
   "cell_type": "code",
   "execution_count": 210,
   "metadata": {},
   "outputs": [
    {
     "data": {
      "text/plain": [
       "<AxesSubplot:>"
      ]
     },
     "execution_count": 210,
     "metadata": {},
     "output_type": "execute_result"
    },
    {
     "data": {
      "image/png": "[encoded data removed]",
      "text/plain": [
       "<Figure size 432x288 with 1 Axes>"
      ]
     },
     "metadata": {
      "needs_background": "light"
     },
     "output_type": "display_data"
    }
   ],
   "source": [
    "sdf = pd.DataFrame(history.history)\n",
    "sdf.plot()"
   ]
  },
  {
   "cell_type": "code",
   "execution_count": 146,
   "metadata": {},
   "outputs": [],
   "source": [
    "from sklearn.metrics import confusion_matrix"
   ]
  },
  {
   "cell_type": "code",
   "execution_count": 149,
   "metadata": {},
   "outputs": [],
   "source": [
    "y_pred =  [0 if p[0] > p[1] else 1 for p in model.predict(test_x)]"
   ]
  },
  {
   "cell_type": "code",
   "execution_count": 150,
   "metadata": {},
   "outputs": [
    {
     "data": {
      "text/plain": [
       "array([[3490, 2238],\n",
       "       [1124, 4363]])"
      ]
     },
     "execution_count": 150,
     "metadata": {},
     "output_type": "execute_result"
    }
   ],
   "source": [
    "confusion_matrix( test.gender.values, y_pred)"
   ]
  }
 ],
 "metadata": {
  "kernelspec": {
   "display_name": "Python 3",
   "language": "python",
   "name": "python3"
  },
  "language_info": {
   "codemirror_mode": {
    "name": "ipython",
    "version": 3
   },
   "file_extension": ".py",
   "mimetype": "text/x-python",
   "name": "python",
   "nbconvert_exporter": "python",
   "pygments_lexer": "ipython3",
   "version": "3.8.6"
  }
 },
 "nbformat": 4,
 "nbformat_minor": 4
}
