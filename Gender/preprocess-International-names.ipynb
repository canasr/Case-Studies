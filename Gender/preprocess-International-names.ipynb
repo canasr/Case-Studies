{
 "cells": [
  {
   "cell_type": "code",
   "execution_count": 2,
   "metadata": {},
   "outputs": [],
   "source": [
    "%config Completer.use_jedi = False"
   ]
  },
  {
   "cell_type": "code",
   "execution_count": 134,
   "metadata": {},
   "outputs": [],
   "source": [
    "from IPython.display import display, clear_output"
   ]
  },
  {
   "cell_type": "code",
   "execution_count": 89,
   "metadata": {},
   "outputs": [],
   "source": [
    "import numpy as np\n",
    "import pandas as pd\n",
    "import re"
   ]
  },
  {
   "cell_type": "code",
   "execution_count": 79,
   "metadata": {},
   "outputs": [],
   "source": [
    "with open('./data/name_dict.txt','r', encoding=\"ISO-8859-1\") as fp:\n",
    "    content = fp.readlines()       \n",
    "    \n",
    "content = [x.strip() for x in content]"
   ]
  },
  {
   "cell_type": "code",
   "execution_count": 118,
   "metadata": {},
   "outputs": [
    {
     "name": "stdout",
     "output_type": "stream",
     "text": [
      "012345678901234567890123456789012345678901234567890123456789012345678901234567890123456789\n",
      "M  Aad                                  4                                             $\n",
      "M  Aadam                                          1                                   $\n",
      "F  Aadje                                1                                             $\n",
      "M  Ådne                      +                 1                                      $\n",
      "M  Aadu                                           12                                  $\n",
      "?F Aaf                                  1                                             $\n",
      "F  Aafke                                4                                             $\n",
      "?  Aafke                                 1                                            $\n"
     ]
    }
   ],
   "source": [
    "print('0123456789'*9)\n",
    "for line in content[362:370]:\n",
    "    print(line)"
   ]
  },
  {
   "cell_type": "code",
   "execution_count": 121,
   "metadata": {},
   "outputs": [],
   "source": [
    "def get_frequencies( content ):\n",
    "\n",
    "    count = 0\n",
    "    country_list  = []\n",
    "    position_list = []\n",
    "    \n",
    "    for line in content:\n",
    "        if count == 0 : # name\n",
    "            country = \" \".join(line.split())\n",
    "            count += 1\n",
    "            \n",
    "        elif count == 1: # position \n",
    "            loc = line.find('|')\n",
    "            count += 1\n",
    "        else:\n",
    "            country_list.append(country[2:-2])\n",
    "            position_list.append(loc)\n",
    "            count = 0 \n",
    "    return country_list, position_list\n",
    "            \n",
    "            \n",
    "country_list, position_list = get_frequencies( content[177:342] )"
   ]
  },
  {
   "cell_type": "code",
   "execution_count": 122,
   "metadata": {},
   "outputs": [],
   "source": [
    "def get_charater(content):\n",
    "    \n",
    "    char_convert = {}\n",
    "    for line in content[54:121]:\n",
    "        name_char = line[1:-1].split('=')\n",
    "        letter_id = int(name_char[0])\n",
    "        letter_ch = name_char[1].strip().split(' or ')\n",
    "        for n, letter in enumerate(letter_ch):\n",
    "            if len(letter) > 4:\n",
    "                letter_ch[n] = letter.strip().split()[0]\n",
    "\n",
    "        for n, letter in enumerate(letter_ch):\n",
    "            char_convert[letter] = letter_id\n",
    "    return char_convert\n",
    "\n",
    "\n",
    "dict_chr = get_charater( content[54:121] )"
   ]
  },
  {
   "cell_type": "code",
   "execution_count": 125,
   "metadata": {},
   "outputs": [
    {
     "data": {
      "text/plain": [
       "55"
      ]
     },
     "execution_count": 125,
     "metadata": {},
     "output_type": "execute_result"
    }
   ],
   "source": [
    "len(country_list)"
   ]
  },
  {
   "cell_type": "code",
   "execution_count": 135,
   "metadata": {},
   "outputs": [
    {
     "name": "stdout",
     "output_type": "stream",
     "text": [
      "764\n"
     ]
    }
   ],
   "source": [
    "def get_names( content ):\n",
    "    df = pd.DataFrame( columns=[ 'gender', 'name'] + country_list )\n",
    "    n = 0\n",
    "    for line in  content :\n",
    "        name_gender =  line[0:28].split()\n",
    "        freq = list(line[30:-2])\n",
    "        \n",
    "        if len(name_gender) == 2:   \n",
    "            df.loc[n] =  name_gender + freq\n",
    "            n +=1\n",
    "            clear_output()\n",
    "            print( len(content) - n)\n",
    "            \n",
    "    return df\n",
    "\n",
    "df = get_names( content[362:] )"
   ]
  },
  {
   "cell_type": "code",
   "execution_count": 138,
   "metadata": {},
   "outputs": [],
   "source": [
    "def replace_chr(name):\n",
    "    ch = re.findall(r\"\\<(.*?)\\>\", name )\n",
    "    for c in ch:\n",
    "        xc = '<'+c+'>'\n",
    "        n = char_convert[xc]\n",
    "        name = name.replace(xc, chr(n))\n",
    "    return name\n",
    "\n",
    "\n",
    "for index, row in df.iterrows():\n",
    "    if '<' in row['name']:\n",
    "        df.loc[index, 'name']= replace_chr(row['name'])"
   ]
  },
  {
   "cell_type": "code",
   "execution_count": 139,
   "metadata": {},
   "outputs": [],
   "source": [
    "for index, row in df.iterrows():\n",
    "    if '+' in row['name']:\n",
    "        df.loc[index, 'name'] = row['name'].replace('+',' ')  \n",
    "\n",
    "    if '-' in row['name']:\n",
    "        df.loc[index, 'name'] = row['name'].replace('-',' ')  \n",
    " "
   ]
  },
  {
   "cell_type": "code",
   "execution_count": 143,
   "metadata": {},
   "outputs": [],
   "source": [
    "df.gender[df.gender == '1F'] = 1\n",
    "df.gender[df.gender == '1M'] = 0\n",
    "\n",
    "df.gender[df.gender == '?F'] = 1\n",
    "df.gender[df.gender == '?M'] = 0\n",
    "\n",
    "df.gender[df.gender == 'F'] = 1\n",
    "df.gender[df.gender == 'M'] = 0\n",
    "\n",
    "df.gender[df.gender == '?'] = 2\n"
   ]
  },
  {
   "cell_type": "code",
   "execution_count": 146,
   "metadata": {},
   "outputs": [],
   "source": [
    "df.to_csv('first_names.csv',index=False)"
   ]
  },
  {
   "cell_type": "code",
   "execution_count": null,
   "metadata": {},
   "outputs": [],
   "source": []
  }
 ],
 "metadata": {
  "kernelspec": {
   "display_name": "Python 3",
   "language": "python",
   "name": "python3"
  },
  "language_info": {
   "codemirror_mode": {
    "name": "ipython",
    "version": 3
   },
   "file_extension": ".py",
   "mimetype": "text/x-python",
   "name": "python",
   "nbconvert_exporter": "python",
   "pygments_lexer": "ipython3",
   "version": "3.8.6"
  }
 },
 "nbformat": 4,
 "nbformat_minor": 4
}
